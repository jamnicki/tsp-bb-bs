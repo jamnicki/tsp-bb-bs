{
 "cells": [
  {
   "cell_type": "code",
   "execution_count": 1,
   "metadata": {},
   "outputs": [
    {
     "name": "stderr",
     "output_type": "stream",
     "text": [
      "Matplotlib created a temporary config/cache directory at /tmp/matplotlib-kvkfjqgv because the default path (/home/jedrz/.cache/matplotlib) is not a writable directory; it is highly recommended to set the MPLCONFIGDIR environment variable to a writable directory, in particular to speed up the import of Matplotlib and to better support multiprocessing.\n"
     ]
    }
   ],
   "source": [
    "import pandas as pd\n",
    "from matplotlib import pyplot as plt\n",
    "from matplotlib.ticker import MaxNLocator"
   ]
  },
  {
   "cell_type": "code",
   "execution_count": 2,
   "metadata": {},
   "outputs": [
    {
     "data": {
      "text/html": [
       "<div>\n",
       "<style scoped>\n",
       "    .dataframe tbody tr th:only-of-type {\n",
       "        vertical-align: middle;\n",
       "    }\n",
       "\n",
       "    .dataframe tbody tr th {\n",
       "        vertical-align: top;\n",
       "    }\n",
       "\n",
       "    .dataframe thead th {\n",
       "        text-align: right;\n",
       "    }\n",
       "</style>\n",
       "<table border=\"1\" class=\"dataframe\">\n",
       "  <thead>\n",
       "    <tr style=\"text-align: right;\">\n",
       "      <th></th>\n",
       "      <th>Algorithm</th>\n",
       "      <th>MatrixSize</th>\n",
       "      <th>Seed</th>\n",
       "      <th>Path</th>\n",
       "      <th>Length</th>\n",
       "      <th>Time</th>\n",
       "    </tr>\n",
       "  </thead>\n",
       "  <tbody>\n",
       "    <tr>\n",
       "      <th>0</th>\n",
       "      <td>Branch and Bound</td>\n",
       "      <td>5</td>\n",
       "      <td>1</td>\n",
       "      <td>[0, 4, 1, 3, 2, 0]</td>\n",
       "      <td>40.0</td>\n",
       "      <td>0.000284</td>\n",
       "    </tr>\n",
       "    <tr>\n",
       "      <th>11</th>\n",
       "      <td>Branch and Bound</td>\n",
       "      <td>20</td>\n",
       "      <td>1</td>\n",
       "      <td>[0, 18, 13, 17, 1, 15, 6, 11, 10, 19, 12, 5, 9...</td>\n",
       "      <td>60.0</td>\n",
       "      <td>1.497769</td>\n",
       "    </tr>\n",
       "    <tr>\n",
       "      <th>10</th>\n",
       "      <td>Branch and Bound</td>\n",
       "      <td>19</td>\n",
       "      <td>1</td>\n",
       "      <td>[0, 1, 16, 8, 9, 2, 4, 6, 15, 11, 7, 12, 3, 14...</td>\n",
       "      <td>70.0</td>\n",
       "      <td>22.760464</td>\n",
       "    </tr>\n",
       "    <tr>\n",
       "      <th>9</th>\n",
       "      <td>Branch and Bound</td>\n",
       "      <td>18</td>\n",
       "      <td>1</td>\n",
       "      <td>[0, 14, 13, 2, 12, 16, 9, 3, 17, 6, 5, 7, 10, ...</td>\n",
       "      <td>59.0</td>\n",
       "      <td>1.002787</td>\n",
       "    </tr>\n",
       "    <tr>\n",
       "      <th>7</th>\n",
       "      <td>Branch and Bound</td>\n",
       "      <td>16</td>\n",
       "      <td>1</td>\n",
       "      <td>[0, 1, 3, 15, 11, 7, 2, 4, 10, 6, 13, 14, 9, 1...</td>\n",
       "      <td>54.0</td>\n",
       "      <td>0.106896</td>\n",
       "    </tr>\n",
       "  </tbody>\n",
       "</table>\n",
       "</div>"
      ],
      "text/plain": [
       "           Algorithm  MatrixSize  Seed   \n",
       "0   Branch and Bound           5     1  \\\n",
       "11  Branch and Bound          20     1   \n",
       "10  Branch and Bound          19     1   \n",
       "9   Branch and Bound          18     1   \n",
       "7   Branch and Bound          16     1   \n",
       "\n",
       "                                                 Path  Length       Time  \n",
       "0                                  [0, 4, 1, 3, 2, 0]    40.0   0.000284  \n",
       "11  [0, 18, 13, 17, 1, 15, 6, 11, 10, 19, 12, 5, 9...    60.0   1.497769  \n",
       "10  [0, 1, 16, 8, 9, 2, 4, 6, 15, 11, 7, 12, 3, 14...    70.0  22.760464  \n",
       "9   [0, 14, 13, 2, 12, 16, 9, 3, 17, 6, 5, 7, 10, ...    59.0   1.002787  \n",
       "7   [0, 1, 3, 15, 11, 7, 2, 4, 10, 6, 13, 14, 9, 1...    54.0   0.106896  "
      ]
     },
     "execution_count": 2,
     "metadata": {},
     "output_type": "execute_result"
    }
   ],
   "source": [
    "df = pd.read_csv(\"tsp_solution_results.csv\").sort_values(by=[\"Seed\"])\n",
    "df.head()"
   ]
  },
  {
   "cell_type": "code",
   "execution_count": 14,
   "metadata": {},
   "outputs": [],
   "source": [
    "def plot_execution_time(alg_colname):\n",
    "    df[df.Algorithm == alg_colname].groupby([\"MatrixSize\"]).Time.mean().plot()\n",
    "    plt.gca().xaxis.set_major_locator(MaxNLocator(nbins=df.MatrixSize.max(), integer=True))\n",
    "    plt.title(\"TSP: Branch and Bound\")\n",
    "    plt.ylabel(\"Execution time [s]\")\n",
    "    plt.grid(alpha=0.2)\n",
    "    plt.tight_layout()\n",
    "    plt.savefig(\"charts/tsp_bb_etime_over_msize.jpg\")\n",
    "    plt.show()"
   ]
  },
  {
   "cell_type": "code",
   "execution_count": 15,
   "metadata": {},
   "outputs": [
    {
     "data": {
      "image/png": "[encoded data removed]",
      "text/plain": [
       "<Figure size 640x480 with 1 Axes>"
      ]
     },
     "metadata": {},
     "output_type": "display_data"
    }
   ],
   "source": [
    "plot_execution_time(alg_colname=\"Branch and Bound\")"
   ]
  },
  {
   "cell_type": "code",
   "execution_count": null,
   "metadata": {},
   "outputs": [],
   "source": []
  }
 ],
 "metadata": {
  "kernelspec": {
   "display_name": "zto",
   "language": "python",
   "name": "python3"
  },
  "language_info": {
   "codemirror_mode": {
    "name": "ipython",
    "version": 3
   },
   "file_extension": ".py",
   "mimetype": "text/x-python",
   "name": "python",
   "nbconvert_exporter": "python",
   "pygments_lexer": "ipython3",
   "version": "3.9.16"
  },
  "orig_nbformat": 4
 },
 "nbformat": 4,
 "nbformat_minor": 2
}
